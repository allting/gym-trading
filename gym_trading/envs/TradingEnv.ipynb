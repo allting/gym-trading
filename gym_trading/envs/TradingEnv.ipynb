{
 "cells": [
  {
   "cell_type": "markdown",
   "metadata": {},
   "source": [
    "## TradingEnv-v0\n",
    "\n",
    "### Open AI 'Gym' for reinforcement-learning based trading algorithms\n",
    "\n",
    "This gym implements a very simple trading environment for reinforcement learning.\n",
    "\n",
    "The gym provides daily observations based on real market data pulled from Quandl on, by default, the SPY etf.  An episode is defined as 252 contiguous days sampled from the overall dataset.  Each day is one 'step' within the gym and for each step, the algo has a choice:\n",
    "\n",
    " - SHORT (0)\n",
    " - FLAT (1)\n",
    " - LONG  (2)\n",
    " \n",
    "If you trade, you will be charged, by default, 10 BPS of the size of your trade.  Thus, going from short to long costs twice as much as going from short to/from flat.  Not trading also has a default cost of 1 BPS per step.  Nobody said it would be easy!\n",
    " \n",
    "At the beginning of your episode, you are allocated 1 unit of cash.  This is your starting Net Asset Value (NAV). \n",
    "\n",
    "### Beating the trading game \n",
    "\n",
    "For our purposes, we'll say that beating a buy & hold strategy, on average, over one hundred episodes will notch a win to the proud ai player.  We'll illustrate exactly what that means below.\n",
    "\n",
    "### Let's look at some code using the environment\n"
   ]
  },
  {
   "cell_type": "markdown",
   "metadata": {},
   "source": [
    "###  imports"
   ]
  },
  {
   "cell_type": "code",
   "execution_count": 1,
   "metadata": {
    "collapsed": true
   },
   "outputs": [
    {
     "ename": "RuntimeError",
     "evalue": "module compiled against API version 0xc but this version of numpy is 0xa",
     "output_type": "error",
     "traceback": [
      "\u001b[0;31m---------------------------------------------------------------------------\u001b[0m",
      "\u001b[0;31mRuntimeError\u001b[0m                              Traceback (most recent call last)",
      "\u001b[0;31mRuntimeError\u001b[0m: module compiled against API version 0xc but this version of numpy is 0xa"
     ]
    },
    {
     "ename": "RuntimeError",
     "evalue": "module compiled against API version 0xc but this version of numpy is 0xa",
     "output_type": "error",
     "traceback": [
      "\u001b[0;31m---------------------------------------------------------------------------\u001b[0m",
      "\u001b[0;31mRuntimeError\u001b[0m                              Traceback (most recent call last)",
      "\u001b[0;31mRuntimeError\u001b[0m: module compiled against API version 0xc but this version of numpy is 0xa"
     ]
    },
    {
     "ename": "RuntimeError",
     "evalue": "module compiled against API version 0xc but this version of numpy is 0xa",
     "output_type": "error",
     "traceback": [
      "\u001b[0;31m---------------------------------------------------------------------------\u001b[0m",
      "\u001b[0;31mRuntimeError\u001b[0m                              Traceback (most recent call last)",
      "\u001b[0;31mRuntimeError\u001b[0m: module compiled against API version 0xc but this version of numpy is 0xa"
     ]
    },
    {
     "ename": "RuntimeError",
     "evalue": "module compiled against API version 0xc but this version of numpy is 0xa",
     "output_type": "error",
     "traceback": [
      "\u001b[0;31m---------------------------------------------------------------------------\u001b[0m",
      "\u001b[0;31mRuntimeError\u001b[0m                              Traceback (most recent call last)",
      "\u001b[0;31mRuntimeError\u001b[0m: module compiled against API version 0xc but this version of numpy is 0xa"
     ]
    }
   ],
   "source": [
    "import gym\n",
    "import numpy as np\n",
    "import pandas as pd\n",
    "import matplotlib as mpl\n",
    "import matplotlib.pyplot as plt\n",
    "from matplotlib import interactive\n",
    "interactive(True)\n",
    "import gym_trading\n"
   ]
  },
  {
   "cell_type": "markdown",
   "metadata": {},
   "source": [
    "### create the environment\n",
    "\n",
    "This may take a moment as we are pulling historical data from quandl."
   ]
  },
  {
   "cell_type": "code",
   "execution_count": 2,
   "metadata": {
    "collapsed": false
   },
   "outputs": [
    {
     "name": "stdout",
     "output_type": "stream",
     "text": [
      "\u001b[33mWARN: gym.spaces.Box autodetected dtype as <class 'numpy.float32'>. Please provide explicit dtype.\u001b[0m\n",
      "\u001b[33mWARN: Environment '<class 'gym_trading.envs.trading_env.TradingEnv'>' has deprecated methods '_step' and '_reset' rather than 'step' and 'reset'. Compatibility code invoked. Set _gym_disable_underscore_compat = True to disable this behavior.\u001b[0m\n"
     ]
    }
   ],
   "source": [
    "env = gym.make('trading-v0')\n",
    "#env.time_cost_bps = 0 # \n"
   ]
  },
  {
   "cell_type": "markdown",
   "metadata": {},
   "source": [
    "### the trading model\n",
    "\n",
    "Each time step is a day.  Each episode is 252 trading days - a year.  Each day, we can choose to be short (0), flat (1) or long (2) the single instrument in our trading universe.\n",
    "\n",
    "Let's run through a day and stay flat."
   ]
  },
  {
   "cell_type": "code",
   "execution_count": 3,
   "metadata": {
    "collapsed": false
   },
   "outputs": [
    {
     "name": "stdout",
     "output_type": "stream",
     "text": [
      "Annualized return:  -0.0247888380589\n"
     ]
    },
    {
     "data": {
      "image/png": "[encoded data removed]",
      "text/plain": [
       "<Figure size 432x288 with 1 Axes>"
      ]
     },
     "metadata": {},
     "output_type": "display_data"
    }
   ],
   "source": [
    "observation = env.reset()\n",
    "done = False\n",
    "navs = []\n",
    "while not done:\n",
    "    action = 1 # stay flat\n",
    "    observation, reward, done, info = env.step(action)\n",
    "    navs.append(info['nav'])\n",
    "    if done:\n",
    "        print ('Annualized return: ',navs[len(navs)-1]-1)\n",
    "        pd.DataFrame(navs).plot()\n"
   ]
  },
  {
   "cell_type": "markdown",
   "metadata": {},
   "source": [
    "### Note that you are charged just for playing - to the tune of 1 basis point per day!\n"
   ]
  },
  {
   "cell_type": "markdown",
   "metadata": {},
   "source": [
    "### Rendering\n",
    "\n",
    "For now, no rendering has been implemented for this gym, but with each step, the following datum are provided which you can easily graph and otherwise visualize as we see above with the NAV:\n",
    "\n",
    " - pnl - how much did we make or lose between yesterday and today?\n",
    " - costs  - how much did we pay in costs today\n",
    " - nav    - our current nav\n",
    " "
   ]
  },
  {
   "cell_type": "markdown",
   "metadata": {},
   "source": [
    "## utility methods: running strategies once or repeatedly\n",
    "\n",
    "Although the gym can be 'exercised' directly as seen above, we've also written utility methods which allow for the running of a strategy once or over many episodes, facilitating training or other sorts of analysis.\n",
    "\n",
    "To utilize these methods, strategies should be exposed as a function or lambda with the following signature:\n",
    "\n",
    "`Action a = strategy( observation, environment )`\n",
    "    \n",
    "Below, we define some simple strategies and look briefly at their behavior to better understand the trading gym. "
   ]
  },
  {
   "cell_type": "code",
   "execution_count": 4,
   "metadata": {
    "collapsed": false
   },
   "outputs": [
    {
     "name": "stdout",
     "output_type": "stream",
     "text": [
      "   action   bod_nav   mkt_nav  mkt_return  sim_return  position   costs  trade\n",
      "0     2.0  1.000000  1.000000    0.018131   -0.001100       1.0  0.0011    1.0\n",
      "1     2.0  0.998900  1.018131   -0.023288   -0.023388       1.0  0.0001    0.0\n",
      "2     2.0  0.975538  0.994421    0.000468    0.000368       1.0  0.0001    0.0\n",
      "3     2.0  0.975897  0.994886   -0.006075   -0.006175       1.0  0.0001    0.0\n",
      "4     2.0  0.969871  0.988842   -0.005172   -0.005272       1.0  0.0001    0.0\n"
     ]
    },
    {
     "data": {
      "text/plain": [
       "<matplotlib.axes._subplots.AxesSubplot at 0x1096f3828>"
      ]
     },
     "execution_count": 4,
     "metadata": {},
     "output_type": "execute_result"
    },
    {
     "data": {
      "image/png": "[encoded data removed]",
      "text/plain": [
       "<Figure size 432x288 with 1 Axes>"
      ]
     },
     "metadata": {},
     "output_type": "display_data"
    }
   ],
   "source": [
    "import trading_env as te\n",
    "\n",
    "stayflat     = lambda o,e: 1   # stand pat\n",
    "buyandhold   = lambda o,e: 2   # buy on day #1 and hold\n",
    "randomtrader = lambda o,e: e.action_space.sample() # retail trader\n",
    "\n",
    "# to run singly, we call run_strat.  we are returned a dataframe containing \n",
    "#  all steps in the sim.\n",
    "bhdf = env.env.run_strat(buyandhold)\n",
    "\n",
    "print (bhdf.head())\n",
    "\n",
    "# we can easily plot our nav in time:\n",
    "bhdf.bod_nav.plot(title='buy & hold nav')\n"
   ]
  },
  {
   "cell_type": "markdown",
   "metadata": {},
   "source": [
    "### running the same strategy multiple times will likely yield different results as underlying data changes"
   ]
  },
  {
   "cell_type": "code",
   "execution_count": 5,
   "metadata": {
    "collapsed": false
   },
   "outputs": [
    {
     "data": {
      "text/plain": [
       "<matplotlib.axes._subplots.AxesSubplot at 0x109724080>"
      ]
     },
     "execution_count": 5,
     "metadata": {},
     "output_type": "execute_result"
    },
    {
     "data": {
      "image/png": "[encoded data removed]",
      "text/plain": [
       "<Figure size 432x288 with 1 Axes>"
      ]
     },
     "metadata": {},
     "output_type": "display_data"
    }
   ],
   "source": [
    "env.env.run_strat(buyandhold).bod_nav.plot(title='same strat, different results')\n",
    "env.env.run_strat(buyandhold).bod_nav.plot()\n",
    "env.env.run_strat(buyandhold).bod_nav.plot()"
   ]
  },
  {
   "cell_type": "markdown",
   "metadata": {},
   "source": [
    "### comparing the buyandhold and random traders"
   ]
  },
  {
   "cell_type": "code",
   "execution_count": 6,
   "metadata": {
    "collapsed": false
   },
   "outputs": [
    {
     "name": "stdout",
     "output_type": "stream",
     "text": [
      "bhdf:     action   bod_nav   mkt_nav  mkt_return  sim_return  position   costs  \\\n",
      "0       2.0  1.000000  1.000000    0.007888   -0.001100       1.0  0.0011   \n",
      "1       2.0  0.998900  1.007888    0.005217    0.005117       1.0  0.0001   \n",
      "2       2.0  1.004012  1.013146    0.008651    0.008551       1.0  0.0001   \n",
      "3       2.0  1.012597  1.021911    0.000000   -0.000100       1.0  0.0001   \n",
      "4       2.0  1.012495  1.021911   -0.017153   -0.017253       1.0  0.0001   \n",
      "5       2.0  0.995027  1.004382   -0.029668   -0.029768       1.0  0.0001   \n",
      "6       2.0  0.965407  0.974584    0.013489    0.013389       1.0  0.0001   \n",
      "7       2.0  0.978333  0.987730   -0.004437   -0.004537       1.0  0.0001   \n",
      "8       2.0  0.973894  0.983348   -0.000891   -0.000991       1.0  0.0001   \n",
      "9       2.0  0.972929  0.982472   -0.049955   -0.050055       1.0  0.0001   \n",
      "10      2.0  0.924229  0.933392   -0.021596   -0.021696       1.0  0.0001   \n",
      "11      2.0  0.904176  0.913234    0.007678    0.007578       1.0  0.0001   \n",
      "12      2.0  0.911028  0.920245   -0.024762   -0.024862       1.0  0.0001   \n",
      "13      2.0  0.888378  0.897458    0.034180    0.034080       1.0  0.0001   \n",
      "14      2.0  0.918654  0.928133   -0.002833   -0.002933       1.0  0.0001   \n",
      "15      2.0  0.915959  0.925504   -0.002841   -0.002941       1.0  0.0001   \n",
      "16      2.0  0.913266  0.922875    0.022792    0.022692       1.0  0.0001   \n",
      "17      2.0  0.933989  0.943909   -0.009285   -0.009385       1.0  0.0001   \n",
      "18      2.0  0.925224  0.935145    0.014058    0.013958       1.0  0.0001   \n",
      "19      2.0  0.938138  0.948291   -0.001848   -0.001948       1.0  0.0001   \n",
      "20      2.0  0.936310  0.946538    0.005556    0.005456       1.0  0.0001   \n",
      "21      2.0  0.941418  0.951797    0.020258    0.020158       1.0  0.0001   \n",
      "22      2.0  0.960395  0.971078    0.008123    0.008023       1.0  0.0001   \n",
      "23      2.0  0.968100  0.978966    0.003581    0.003481       1.0  0.0001   \n",
      "24      2.0  0.971470  0.982472    0.008921    0.008821       1.0  0.0001   \n",
      "25      2.0  0.980039  0.991236    0.003537    0.003437       1.0  0.0001   \n",
      "26      2.0  0.983407  0.994741    0.002643    0.002543       1.0  0.0001   \n",
      "27      2.0  0.985908  0.997371    0.014060    0.013960       1.0  0.0001   \n",
      "28      2.0  0.999671  1.011394    0.009532    0.009432       1.0  0.0001   \n",
      "29      2.0  1.009100  1.021034    0.015451    0.015351       1.0  0.0001   \n",
      "..      ...       ...       ...         ...         ...       ...     ...   \n",
      "222     2.0  0.595187  0.612428    0.001335    0.001235       1.0  0.0001   \n",
      "223     2.0  0.595922  0.613246    0.014000    0.013900       1.0  0.0001   \n",
      "224     2.0  0.604205  0.621832    0.004602    0.004502       1.0  0.0001   \n",
      "225     2.0  0.606926  0.624693   -0.009817   -0.009917       1.0  0.0001   \n",
      "226     2.0  0.600907  0.618561    0.003305    0.003205       1.0  0.0001   \n",
      "227     2.0  0.602833  0.620605    0.001318    0.001218       1.0  0.0001   \n",
      "228     2.0  0.603567  0.621423   -0.007237   -0.007337       1.0  0.0001   \n",
      "229     2.0  0.599138  0.616926   -0.011266   -0.011366       1.0  0.0001   \n",
      "230     2.0  0.592329  0.609975    0.000000   -0.000100       1.0  0.0001   \n",
      "231     2.0  0.592269  0.609975    0.000000   -0.000100       1.0  0.0001   \n",
      "232     2.0  0.592210  0.609975    0.008713    0.008613       1.0  0.0001   \n",
      "233     2.0  0.597311  0.615290   -0.002658   -0.002758       1.0  0.0001   \n",
      "234     2.0  0.595664  0.613655   -0.007328   -0.007428       1.0  0.0001   \n",
      "235     2.0  0.591239  0.609158    0.002013    0.001913       1.0  0.0001   \n",
      "236     2.0  0.592370  0.610384   -0.006698   -0.006798       1.0  0.0001   \n",
      "237     2.0  0.588343  0.606296    0.004046    0.003946       1.0  0.0001   \n",
      "238     2.0  0.590665  0.608749    0.000000   -0.000100       1.0  0.0001   \n",
      "239     2.0  0.590606  0.608749   -0.000672   -0.000772       1.0  0.0001   \n",
      "240     2.0  0.590150  0.608340    0.001344    0.001244       1.0  0.0001   \n",
      "241     2.0  0.590884  0.609158    0.009396    0.009296       1.0  0.0001   \n",
      "242     2.0  0.596377  0.614881   -0.000665   -0.000765       1.0  0.0001   \n",
      "243     2.0  0.595921  0.614473   -0.014637   -0.014737       1.0  0.0001   \n",
      "244     2.0  0.587139  0.605478    0.005402    0.005302       1.0  0.0001   \n",
      "245     2.0  0.590251  0.608749    0.000672    0.000572       1.0  0.0001   \n",
      "246     2.0  0.590589  0.609158    0.001342    0.001242       1.0  0.0001   \n",
      "247     2.0  0.591323  0.609975    0.009383    0.009283       1.0  0.0001   \n",
      "248     2.0  0.596812  0.615699    0.005976    0.005876       1.0  0.0001   \n",
      "249     2.0  0.600319  0.619379    0.007921    0.007821       1.0  0.0001   \n",
      "250     2.0  0.605014  0.624285    0.007204    0.007104       1.0  0.0001   \n",
      "251     2.0  0.609312  0.628782   -0.007152   -0.007252       1.0  0.0001   \n",
      "\n",
      "     trade  \n",
      "0      1.0  \n",
      "1      0.0  \n",
      "2      0.0  \n",
      "3      0.0  \n",
      "4      0.0  \n",
      "5      0.0  \n",
      "6      0.0  \n",
      "7      0.0  \n",
      "8      0.0  \n",
      "9      0.0  \n",
      "10     0.0  \n",
      "11     0.0  \n",
      "12     0.0  \n",
      "13     0.0  \n",
      "14     0.0  \n",
      "15     0.0  \n",
      "16     0.0  \n",
      "17     0.0  \n",
      "18     0.0  \n",
      "19     0.0  \n",
      "20     0.0  \n",
      "21     0.0  \n",
      "22     0.0  \n",
      "23     0.0  \n",
      "24     0.0  \n",
      "25     0.0  \n",
      "26     0.0  \n",
      "27     0.0  \n",
      "28     0.0  \n",
      "29     0.0  \n",
      "..     ...  \n",
      "222    0.0  \n",
      "223    0.0  \n",
      "224    0.0  \n",
      "225    0.0  \n",
      "226    0.0  \n",
      "227    0.0  \n",
      "228    0.0  \n",
      "229    0.0  \n",
      "230    0.0  \n",
      "231    0.0  \n",
      "232    0.0  \n",
      "233    0.0  \n",
      "234    0.0  \n",
      "235    0.0  \n",
      "236    0.0  \n",
      "237    0.0  \n",
      "238    0.0  \n",
      "239    0.0  \n",
      "240    0.0  \n",
      "241    0.0  \n",
      "242    0.0  \n",
      "243    0.0  \n",
      "244    0.0  \n",
      "245    0.0  \n",
      "246    0.0  \n",
      "247    0.0  \n",
      "248    0.0  \n",
      "249    0.0  \n",
      "250    0.0  \n",
      "251    0.0  \n",
      "\n",
      "[25200 rows x 8 columns], rdf:     action   bod_nav   mkt_nav  mkt_return  sim_return  position   costs  \\\n",
      "0       0.0  1.000000  1.000000    0.001653   -0.001100      -1.0  0.0011   \n",
      "1       1.0  0.998900  1.001653    0.001650   -0.002750       0.0  0.0011   \n",
      "2       0.0  0.996153  1.003306    0.001647   -0.001100      -1.0  0.0011   \n",
      "3       1.0  0.995057  1.004959   -0.011513    0.010413       0.0  0.0011   \n",
      "4       1.0  1.005419  0.993388   -0.001664   -0.000100       0.0  0.0001   \n",
      "5       2.0  1.005318  0.991736    0.003333   -0.001100       1.0  0.0011   \n",
      "6       0.0  1.004212  0.995041   -0.009967   -0.012067      -1.0  0.0021   \n",
      "7       2.0  0.992095  0.985124    0.008389   -0.010489       1.0  0.0021   \n",
      "8       0.0  0.981688  0.993388   -0.001664   -0.003764      -1.0  0.0021   \n",
      "9       0.0  0.977993  0.991736    0.016667   -0.016767      -1.0  0.0001   \n",
      "10      0.0  0.961596  1.008264    0.000000   -0.000100      -1.0  0.0001   \n",
      "11      2.0  0.961500  1.008264   -0.021311    0.019211       1.0  0.0021   \n",
      "12      1.0  0.979971  0.986777    0.001675    0.000575       0.0  0.0011   \n",
      "13      2.0  0.980535  0.988430   -0.001672   -0.001100       1.0  0.0011   \n",
      "14      2.0  0.979456  0.986777    0.000000   -0.000100       1.0  0.0001   \n",
      "15      0.0  0.979358  0.986777   -0.016750   -0.018850      -1.0  0.0021   \n",
      "16      1.0  0.960897  0.970248   -0.013629    0.012529       0.0  0.0011   \n",
      "17      1.0  0.972936  0.957025    0.008636   -0.000100       0.0  0.0001   \n",
      "18      1.0  0.972839  0.965289    0.027397   -0.000100       0.0  0.0001   \n",
      "19      1.0  0.972741  0.991736    0.005000   -0.000100       0.0  0.0001   \n",
      "20      0.0  0.972644  0.996694   -0.003317   -0.001100      -1.0  0.0011   \n",
      "21      1.0  0.971574  0.993388   -0.008319    0.007219       0.0  0.0011   \n",
      "22      0.0  0.978588  0.985124   -0.026846   -0.001100      -1.0  0.0011   \n",
      "23      0.0  0.977512  0.958678   -0.013793    0.013693      -1.0  0.0001   \n",
      "24      1.0  0.990897  0.945455    0.022727   -0.023827       0.0  0.0011   \n",
      "25      2.0  0.967287  0.966942    0.000000   -0.001100       1.0  0.0011   \n",
      "26      0.0  0.966223  0.966942   -0.006838   -0.008938      -1.0  0.0021   \n",
      "27      2.0  0.957587  0.960331   -0.018933    0.016833       1.0  0.0021   \n",
      "28      0.0  0.973706  0.942149    0.008772    0.006672      -1.0  0.0021   \n",
      "29      1.0  0.980202  0.950413    0.003478   -0.004578       0.0  0.0011   \n",
      "..      ...       ...       ...         ...         ...       ...     ...   \n",
      "222     0.0  0.829738  1.116969   -0.017699   -0.019799      -1.0  0.0021   \n",
      "223     0.0  0.813310  1.097199    0.001502   -0.001602      -1.0  0.0001   \n",
      "224     2.0  0.812007  1.098847    0.001499   -0.003599       1.0  0.0021   \n",
      "225     0.0  0.809085  1.100494   -0.004491   -0.006591      -1.0  0.0021   \n",
      "226     1.0  0.803752  1.095552    0.003008   -0.004108       0.0  0.0011   \n",
      "227     0.0  0.800451  1.098847   -0.002999   -0.001100      -1.0  0.0011   \n",
      "228     2.0  0.799570  1.095552    0.000000   -0.002100       1.0  0.0021   \n",
      "229     0.0  0.797891  1.095552    0.004511    0.002411      -1.0  0.0021   \n",
      "230     2.0  0.799815  1.100494   -0.007485    0.005385       1.0  0.0021   \n",
      "231     0.0  0.804122  1.092257    0.003017    0.000917      -1.0  0.0021   \n",
      "232     0.0  0.804859  1.095552   -0.007519    0.007419      -1.0  0.0001   \n",
      "233     2.0  0.810830  1.087315    0.001515   -0.003615       1.0  0.0021   \n",
      "234     2.0  0.807899  1.088962    0.018154    0.018054       1.0  0.0001   \n",
      "235     1.0  0.822485  1.108731   -0.017831   -0.018931       0.0  0.0011   \n",
      "236     0.0  0.806915  1.088962    0.015129   -0.001100      -1.0  0.0011   \n",
      "237     1.0  0.806027  1.105437   -0.013413    0.012313       0.0  0.0011   \n",
      "238     2.0  0.815952  1.090610    0.006042   -0.001100       1.0  0.0011   \n",
      "239     0.0  0.815054  1.097199    0.027027    0.024927      -1.0  0.0021   \n",
      "240     1.0  0.835371  1.126853    0.010234   -0.011334       0.0  0.0011   \n",
      "241     2.0  0.825903  1.138386    0.028944   -0.001100       1.0  0.0011   \n",
      "242     2.0  0.824994  1.171334    0.042194    0.042094       1.0  0.0001   \n",
      "243     1.0  0.859722  1.220758    0.079622    0.078522       0.0  0.0011   \n",
      "244     2.0  0.927229  1.317957    0.030000   -0.001100       1.0  0.0011   \n",
      "245     2.0  0.926209  1.357496   -0.015777   -0.015877       1.0  0.0001   \n",
      "246     1.0  0.911504  1.336079   -0.013564   -0.014664       0.0  0.0011   \n",
      "247     2.0  0.898138  1.317957   -0.032500   -0.001100       1.0  0.0011   \n",
      "248     0.0  0.897150  1.275124    0.011628    0.009528      -1.0  0.0021   \n",
      "249     2.0  0.905698  1.289951   -0.016603    0.014503       1.0  0.0021   \n",
      "250     2.0  0.918833  1.268534    0.007792    0.007692       1.0  0.0001   \n",
      "251     1.0  0.925901  1.278418   -0.010309   -0.011409       0.0  0.0011   \n",
      "\n",
      "     trade  \n",
      "0     -1.0  \n",
      "1      1.0  \n",
      "2     -1.0  \n",
      "3      1.0  \n",
      "4      0.0  \n",
      "5      1.0  \n",
      "6     -2.0  \n",
      "7      2.0  \n",
      "8     -2.0  \n",
      "9      0.0  \n",
      "10     0.0  \n",
      "11     2.0  \n",
      "12    -1.0  \n",
      "13     1.0  \n",
      "14     0.0  \n",
      "15    -2.0  \n",
      "16     1.0  \n",
      "17     0.0  \n",
      "18     0.0  \n",
      "19     0.0  \n",
      "20    -1.0  \n",
      "21     1.0  \n",
      "22    -1.0  \n",
      "23     0.0  \n",
      "24     1.0  \n",
      "25     1.0  \n",
      "26    -2.0  \n",
      "27     2.0  \n",
      "28    -2.0  \n",
      "29     1.0  \n",
      "..     ...  \n",
      "222   -2.0  \n",
      "223    0.0  \n",
      "224    2.0  \n",
      "225   -2.0  \n",
      "226    1.0  \n",
      "227   -1.0  \n",
      "228    2.0  \n",
      "229   -2.0  \n",
      "230    2.0  \n",
      "231   -2.0  \n",
      "232    0.0  \n",
      "233    2.0  \n",
      "234    0.0  \n",
      "235   -1.0  \n",
      "236   -1.0  \n",
      "237    1.0  \n",
      "238    1.0  \n",
      "239   -2.0  \n",
      "240    1.0  \n",
      "241    1.0  \n",
      "242    0.0  \n",
      "243   -1.0  \n",
      "244    1.0  \n",
      "245    0.0  \n",
      "246   -1.0  \n",
      "247    1.0  \n",
      "248   -2.0  \n",
      "249    2.0  \n",
      "250    0.0  \n",
      "251   -1.0  \n",
      "\n",
      "[25200 rows x 8 columns]\n"
     ]
    }
   ],
   "source": [
    "# running a strategy multiple times should yield insights \n",
    "#   into its expected behavior or give it oppty to learn\n",
    "bhdf = env.env.run_strats(buyandhold,100)\n",
    "rdf = env.env.run_strats(randomtrader,100)\n",
    "print('bhdf:{}, rdf:{}'.format(bhdf, rdf))"
   ]
  },
  {
   "cell_type": "code",
   "execution_count": 7,
   "metadata": {},
   "outputs": [
    {
     "data": {
      "text/html": [
       "<div>\n",
       "<table border=\"1\" class=\"dataframe\">\n",
       "  <thead>\n",
       "    <tr style=\"text-align: right;\">\n",
       "      <th></th>\n",
       "      <th>buyhold</th>\n",
       "      <th>random</th>\n",
       "    </tr>\n",
       "  </thead>\n",
       "  <tbody>\n",
       "    <tr>\n",
       "      <th>action</th>\n",
       "      <td>2.000000</td>\n",
       "      <td>0.997063</td>\n",
       "    </tr>\n",
       "    <tr>\n",
       "      <th>bod_nav</th>\n",
       "      <td>1.046833</td>\n",
       "      <td>0.876216</td>\n",
       "    </tr>\n",
       "    <tr>\n",
       "      <th>mkt_nav</th>\n",
       "      <td>1.063112</td>\n",
       "      <td>1.086249</td>\n",
       "    </tr>\n",
       "    <tr>\n",
       "      <th>mkt_return</th>\n",
       "      <td>0.000501</td>\n",
       "      <td>0.000737</td>\n",
       "    </tr>\n",
       "    <tr>\n",
       "      <th>sim_return</th>\n",
       "      <td>0.000392</td>\n",
       "      <td>-0.001018</td>\n",
       "    </tr>\n",
       "    <tr>\n",
       "      <th>position</th>\n",
       "      <td>1.000000</td>\n",
       "      <td>-0.002937</td>\n",
       "    </tr>\n",
       "    <tr>\n",
       "      <th>costs</th>\n",
       "      <td>0.000104</td>\n",
       "      <td>0.000987</td>\n",
       "    </tr>\n",
       "    <tr>\n",
       "      <th>trade</th>\n",
       "      <td>0.003968</td>\n",
       "      <td>0.000159</td>\n",
       "    </tr>\n",
       "  </tbody>\n",
       "</table>\n",
       "</div>"
      ],
      "text/plain": [
       "             buyhold    random\n",
       "action      2.000000  0.997063\n",
       "bod_nav     1.046833  0.876216\n",
       "mkt_nav     1.063112  1.086249\n",
       "mkt_return  0.000501  0.000737\n",
       "sim_return  0.000392 -0.001018\n",
       "position    1.000000 -0.002937\n",
       "costs       0.000104  0.000987\n",
       "trade       0.003968  0.000159"
      ]
     },
     "execution_count": 7,
     "metadata": {},
     "output_type": "execute_result"
    }
   ],
   "source": [
    "comparo = pd.DataFrame({'buyhold':bhdf.mean(),\n",
    "                        'random': rdf.mean()})\n",
    "comparo"
   ]
  },
  {
   "cell_type": "markdown",
   "metadata": {},
   "source": [
    "## Object of the game\n",
    "\n",
    "From the above examples, we can see that buying and holding will, over the long run, give you the market return with low costs.\n",
    "\n",
    "Randomly trading will instead destroy value rather quickly as costs overwhelm.\n",
    "\n",
    "### So, what does it mean to win the trading game?  \n",
    "\n",
    "For our purposes, we'll say that beating a buy & hold strategy, on average, over one hundred episodes will notch a win to the proud ai player.\n",
    "\n",
    "To support this, the trading environment maintains the *mkt_return* which can be compared with the *sim_return*.\n",
    "\n",
    "Note that the *mkt_return* is frictionless while the *sim_return* incurs both trading costs and the decay cost of 1 basis point per day, so overcoming the hurdle we've set here should be challenging.\n"
   ]
  },
  {
   "cell_type": "markdown",
   "metadata": {},
   "source": [
    "### Playing the game: purloined policy gradients\n",
    "\n",
    "I've taken and adapted (see [code](policy_gradient.py) for details) a policy gradient implementation based on tensorflow to try to play the single-instrument trading game.  Let's see how it does."
   ]
  },
  {
   "cell_type": "code",
   "execution_count": 11,
   "metadata": {
    "collapsed": false
   },
   "outputs": [
    {
     "ename": "SyntaxError",
     "evalue": "invalid syntax (policy_gradient.py, line 104)",
     "output_type": "error",
     "traceback": [
      "Traceback \u001b[0;36m(most recent call last)\u001b[0m:\n",
      "  File \u001b[1;32m\"/Users/jeff/anaconda3/envs/catalyst/lib/python3.6/site-packages/IPython/core/interactiveshell.py\"\u001b[0m, line \u001b[1;32m2963\u001b[0m, in \u001b[1;35mrun_code\u001b[0m\n    exec(code_obj, self.user_global_ns, self.user_ns)\n",
      "\u001b[0;36m  File \u001b[0;32m\"<ipython-input-11-427c39305553>\"\u001b[0;36m, line \u001b[0;32m2\u001b[0;36m, in \u001b[0;35m<module>\u001b[0;36m\u001b[0m\n\u001b[0;31m    import policy_gradient\u001b[0m\n",
      "\u001b[0;36m  File \u001b[0;32m\"/Users/jeff/workspace/test/ml/rl/gym-trading/gym_trading/envs/policy_gradient.py\"\u001b[0;36m, line \u001b[0;32m104\u001b[0m\n\u001b[0;31m    print tf.train.latest_checkpoint(model_dir)\u001b[0m\n\u001b[0m           ^\u001b[0m\n\u001b[0;31mSyntaxError\u001b[0m\u001b[0;31m:\u001b[0m invalid syntax\n"
     ]
    }
   ],
   "source": [
    "import tensorflow as tf\n",
    "import policy_gradient"
   ]
  },
  {
   "cell_type": "code",
   "execution_count": 12,
   "metadata": {
    "collapsed": false
   },
   "outputs": [
    {
     "ename": "NameError",
     "evalue": "name 'policy_gradient' is not defined",
     "output_type": "error",
     "traceback": [
      "\u001b[0;31m---------------------------------------------------------------------------\u001b[0m",
      "\u001b[0;31mNameError\u001b[0m                                 Traceback (most recent call last)",
      "\u001b[0;32m<ipython-input-12-2354f325bac6>\u001b[0m in \u001b[0;36m<module>\u001b[0;34m()\u001b[0m\n\u001b[1;32m      3\u001b[0m \u001b[0;34m\u001b[0m\u001b[0m\n\u001b[1;32m      4\u001b[0m \u001b[0;31m# create policygradient\u001b[0m\u001b[0;34m\u001b[0m\u001b[0;34m\u001b[0m\u001b[0m\n\u001b[0;32m----> 5\u001b[0;31m \u001b[0mpg\u001b[0m \u001b[0;34m=\u001b[0m \u001b[0mpolicy_gradient\u001b[0m\u001b[0;34m.\u001b[0m\u001b[0mPolicyGradient\u001b[0m\u001b[0;34m(\u001b[0m\u001b[0msess\u001b[0m\u001b[0;34m,\u001b[0m \u001b[0mobs_dim\u001b[0m\u001b[0;34m=\u001b[0m\u001b[0;36m5\u001b[0m\u001b[0;34m,\u001b[0m \u001b[0mnum_actions\u001b[0m\u001b[0;34m=\u001b[0m\u001b[0;36m3\u001b[0m\u001b[0;34m,\u001b[0m \u001b[0mlearning_rate\u001b[0m\u001b[0;34m=\u001b[0m\u001b[0;36m1e-2\u001b[0m \u001b[0;34m)\u001b[0m\u001b[0;34m\u001b[0m\u001b[0m\n\u001b[0m\u001b[1;32m      6\u001b[0m \u001b[0;34m\u001b[0m\u001b[0m\n\u001b[1;32m      7\u001b[0m \u001b[0;31m# and now let's train it and evaluate its progress.  NB: this could take some time...\u001b[0m\u001b[0;34m\u001b[0m\u001b[0;34m\u001b[0m\u001b[0m\n",
      "\u001b[0;31mNameError\u001b[0m: name 'policy_gradient' is not defined"
     ]
    }
   ],
   "source": [
    "# create the tf session\n",
    "sess = tf.InteractiveSession()\n",
    "\n",
    "# create policygradient\n",
    "pg = policy_gradient.PolicyGradient(sess, obs_dim=5, num_actions=3, learning_rate=1e-2 )\n",
    "\n",
    "# and now let's train it and evaluate its progress.  NB: this could take some time...\n",
    "df,sf = pg.train_model( env,episodes=25001, log_freq=100)#, load_model=True)\n"
   ]
  },
  {
   "cell_type": "markdown",
   "metadata": {},
   "source": [
    "### Results\n",
    "\n",
    "Policy gradients beat the trading game!  That said, it doesn't work every time and it seems, looking at the charts below, as though it's a bit of a lucky thing.  But luck counts in the trading game as in life!\n"
   ]
  },
  {
   "cell_type": "code",
   "execution_count": 13,
   "metadata": {
    "collapsed": false
   },
   "outputs": [
    {
     "ename": "NameError",
     "evalue": "name 'sf' is not defined",
     "output_type": "error",
     "traceback": [
      "\u001b[0;31m---------------------------------------------------------------------------\u001b[0m",
      "\u001b[0;31mNameError\u001b[0m                                 Traceback (most recent call last)",
      "\u001b[0;32m<ipython-input-13-7f1d3f2cc222>\u001b[0m in \u001b[0;36m<module>\u001b[0;34m()\u001b[0m\n\u001b[0;32m----> 1\u001b[0;31m \u001b[0msf\u001b[0m\u001b[0;34m[\u001b[0m\u001b[0;34m'net'\u001b[0m\u001b[0;34m]\u001b[0m \u001b[0;34m=\u001b[0m \u001b[0msf\u001b[0m\u001b[0;34m.\u001b[0m\u001b[0msimror\u001b[0m \u001b[0;34m-\u001b[0m \u001b[0msf\u001b[0m\u001b[0;34m.\u001b[0m\u001b[0mmktror\u001b[0m\u001b[0;34m\u001b[0m\u001b[0m\n\u001b[0m\u001b[1;32m      2\u001b[0m \u001b[0;31m#sf.net.plot()\u001b[0m\u001b[0;34m\u001b[0m\u001b[0;34m\u001b[0m\u001b[0m\n\u001b[1;32m      3\u001b[0m \u001b[0msf\u001b[0m\u001b[0;34m.\u001b[0m\u001b[0mnet\u001b[0m\u001b[0;34m.\u001b[0m\u001b[0mexpanding\u001b[0m\u001b[0;34m(\u001b[0m\u001b[0;34m)\u001b[0m\u001b[0;34m.\u001b[0m\u001b[0mmean\u001b[0m\u001b[0;34m(\u001b[0m\u001b[0;34m)\u001b[0m\u001b[0;34m.\u001b[0m\u001b[0mplot\u001b[0m\u001b[0;34m(\u001b[0m\u001b[0;34m)\u001b[0m\u001b[0;34m\u001b[0m\u001b[0m\n\u001b[1;32m      4\u001b[0m \u001b[0msf\u001b[0m\u001b[0;34m.\u001b[0m\u001b[0mnet\u001b[0m\u001b[0;34m.\u001b[0m\u001b[0mrolling\u001b[0m\u001b[0;34m(\u001b[0m\u001b[0;36m100\u001b[0m\u001b[0;34m)\u001b[0m\u001b[0;34m.\u001b[0m\u001b[0mmean\u001b[0m\u001b[0;34m(\u001b[0m\u001b[0;34m)\u001b[0m\u001b[0;34m.\u001b[0m\u001b[0mplot\u001b[0m\u001b[0;34m(\u001b[0m\u001b[0;34m)\u001b[0m\u001b[0;34m\u001b[0m\u001b[0m\n",
      "\u001b[0;31mNameError\u001b[0m: name 'sf' is not defined"
     ]
    }
   ],
   "source": [
    "sf['net'] = sf.simror - sf.mktror\n",
    "#sf.net.plot()\n",
    "sf.net.expanding().mean().plot()\n",
    "sf.net.rolling(100).mean().plot()"
   ]
  },
  {
   "cell_type": "code",
   "execution_count": 14,
   "metadata": {
    "collapsed": false
   },
   "outputs": [
    {
     "ename": "NameError",
     "evalue": "name 'sf' is not defined",
     "output_type": "error",
     "traceback": [
      "\u001b[0;31m---------------------------------------------------------------------------\u001b[0m",
      "\u001b[0;31mNameError\u001b[0m                                 Traceback (most recent call last)",
      "\u001b[0;32m<ipython-input-14-c015048767e4>\u001b[0m in \u001b[0;36m<module>\u001b[0;34m()\u001b[0m\n\u001b[0;32m----> 1\u001b[0;31m \u001b[0msf\u001b[0m\u001b[0;34m.\u001b[0m\u001b[0mnet\u001b[0m\u001b[0;34m.\u001b[0m\u001b[0mrolling\u001b[0m\u001b[0;34m(\u001b[0m\u001b[0;36m100\u001b[0m\u001b[0;34m)\u001b[0m\u001b[0;34m.\u001b[0m\u001b[0mmean\u001b[0m\u001b[0;34m(\u001b[0m\u001b[0;34m)\u001b[0m\u001b[0;34m.\u001b[0m\u001b[0mtail\u001b[0m\u001b[0;34m(\u001b[0m\u001b[0;34m)\u001b[0m\u001b[0;34m\u001b[0m\u001b[0m\n\u001b[0m",
      "\u001b[0;31mNameError\u001b[0m: name 'sf' is not defined"
     ]
    }
   ],
   "source": [
    "sf.net.rolling(100).mean().tail()"
   ]
  },
  {
   "cell_type": "code",
   "execution_count": null,
   "metadata": {},
   "outputs": [],
   "source": []
  },
  {
   "cell_type": "code",
   "execution_count": null,
   "metadata": {},
   "outputs": [],
   "source": []
  }
 ],
 "metadata": {
  "kernelspec": {
   "display_name": "Python 3",
   "language": "python",
   "name": "python3"
  },
  "language_info": {
   "codemirror_mode": {
    "name": "ipython",
    "version": 3
   },
   "file_extension": ".py",
   "mimetype": "text/x-python",
   "name": "python",
   "nbconvert_exporter": "python",
   "pygments_lexer": "ipython3",
   "version": "3.6.4"
  }
 },
 "nbformat": 4,
 "nbformat_minor": 2
}
